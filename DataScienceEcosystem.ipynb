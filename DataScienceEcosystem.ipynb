{
 "cells": [
  {
   "attachments": {},
   "cell_type": "markdown",
   "id": "4a692a78-cf64-4393-a41b-bcdbe49b4edf",
   "metadata": {},
   "source": [
    "#Data Science Tools and Ecosystem"
   ]
  },
  {
   "cell_type": "markdown",
   "id": "f6ddfdac-3736-4da8-ab06-5ead5912677e",
   "metadata": {},
   "source": [
    "In this notebook, Data Science Tools and Ecosystem are summarized."
   ]
  },
  {
   "cell_type": "markdown",
   "id": "7c54f9c1-0e8a-49bb-ae5a-3d514035c739",
   "metadata": {},
   "source": [
    "#Some of the popular languages that Data Scientists use are:"
   ]
  },
  {
   "cell_type": "markdown",
   "id": "46e4e0ab-fd2c-4611-ad21-88333d249037",
   "metadata": {},
   "source": [
    "1. Python\n",
    "2. R\n",
    "3. SQL\n",
    "4. Java\n",
    "4. Julia"
   ]
  },
  {
   "cell_type": "markdown",
   "id": "61b1336e-9afa-4587-8248-9bcf26522d61",
   "metadata": {},
   "source": [
    "#Some of the commonly used libraries used by Data Scientists include:\n",
    "1. NumPy\n",
    "2. Pandas\n",
    "3. Matplotlib\n",
    "4. Seaborn\n",
    "5. Scikit-learn\n",
    "6. TensorFlow\n",
    "7. Keras\n",
    "8. PyTorch\n",
    "9. Statsmodels\n",
    "10. NLTK"
   ]
  },
  {
   "cell_type": "markdown",
   "id": "da0559dc-cc1c-4d15-9f39-d092140a6b25",
   "metadata": {},
   "source": [
    "|Data Science Tools|\n",
    "--------------------\n",
    "|Jupyter Notebook  |\n",
    "|JupyterLab        |\n",
    "|Visual Studio Code|\n",
    "|R                 |\n"
   ]
  },
  {
   "cell_type": "markdown",
   "id": "06596072-3436-447c-bf99-4eb1898f4315",
   "metadata": {},
   "source": [
    "###Below are a few examples of evaluating arithmetic expressions in Python."
   ]
  },
  {
   "cell_type": "markdown",
   "id": "e970ba59-828f-4427-be76-c2d1b509f494",
   "metadata": {},
   "source": [
    "This a simple arithmetic expression to multiply then add integers."
   ]
  },
  {
   "cell_type": "code",
   "execution_count": 12,
   "id": "483f9c4a-d377-446b-b64a-7289fcd12949",
   "metadata": {},
   "outputs": [
    {
     "data": {
      "text/plain": [
       "17"
      ]
     },
     "execution_count": 12,
     "metadata": {},
     "output_type": "execute_result"
    }
   ],
   "source": [
    "(3*4)+5"
   ]
  },
  {
   "cell_type": "markdown",
   "id": "394cdf98-641d-4d17-a191-9812cd16f3f0",
   "metadata": {},
   "source": [
    "This will convert 200 minutes to hours by dividing by 60"
   ]
  },
  {
   "cell_type": "code",
   "execution_count": 15,
   "id": "8c0e5152-03bb-4ab6-87ba-ca5502d93b8d",
   "metadata": {},
   "outputs": [
    {
     "data": {
      "text/plain": [
       "3.3333333333333335"
      ]
     },
     "execution_count": 15,
     "metadata": {},
     "output_type": "execute_result"
    }
   ],
   "source": [
    "200/60"
   ]
  },
  {
   "cell_type": "markdown",
   "id": "3ca03a55-c6b0-4519-86ee-7be8cb9d2a59",
   "metadata": {},
   "source": [
    "**Objectives:**"
   ]
  },
  {
   "cell_type": "markdown",
   "id": "cf26341d-7916-4a08-abea-425b98a713eb",
   "metadata": {},
   "source": [
    "- List popular languages for Data Science\n",
    "- Commonly used libraries by Data Scientists\n",
    "- Open Source Tools used in Data Science\n",
    "- Arithmetic Expressions\n",
    "- "
   ]
  },
  {
   "cell_type": "code",
   "execution_count": 4,
   "id": "4bc53aae-6739-470d-8c40-dcb3aa3e8735",
   "metadata": {},
   "outputs": [],
   "source": [
    "##Author"
   ]
  },
  {
   "cell_type": "markdown",
   "id": "15bf81d5-a55c-4a83-bc3c-a15c48957b99",
   "metadata": {},
   "source": [
    "Christine Jones"
   ]
  }
 ],
 "metadata": {
  "kernelspec": {
   "display_name": "Python 3 (ipykernel)",
   "language": "python",
   "name": "python3"
  },
  "language_info": {
   "codemirror_mode": {
    "name": "ipython",
    "version": 3
   },
   "file_extension": ".py",
   "mimetype": "text/x-python",
   "name": "python",
   "nbconvert_exporter": "python",
   "pygments_lexer": "ipython3",
   "version": "3.12.4"
  }
 },
 "nbformat": 4,
 "nbformat_minor": 5
}
